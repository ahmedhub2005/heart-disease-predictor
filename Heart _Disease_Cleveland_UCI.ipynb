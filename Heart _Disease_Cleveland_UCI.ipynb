{
 "cells": [
  {
   "cell_type": "code",
   "execution_count": null,
   "id": "287e7623",
   "metadata": {},
   "outputs": [],
   "source": [
    "#import\n",
    "import pandas as pd\n",
    "import numpy as np\n",
    "import matplotlib.pyplot as plt\n",
    "from sklearn.ensemble import RandomForestClassifier\n",
    "from sklearn.ensemble import GradientBoostingClassifier\n",
    "from sklearn.linear_model import LogisticRegression\n",
    "from sklearn import model_selection\n",
    "from sklearn import metrics\n",
    "import seaborn as sns\n",
    "from sklearn.metrics import r2_score\n",
    "from sklearn.metrics import accuracy_score\n",
    "import tensorflow as tf"
   ]
  },
  {
   "cell_type": "code",
   "execution_count": null,
   "id": "b9be3a61",
   "metadata": {},
   "outputs": [],
   "source": [
    "#load data\n",
    "data = pd.read_csv(r\"D:\\python for data science\\notebooks\\heart_cleveland_upload.csv\")\n",
    "data.describe()\n",
    "data.info()\n",
    "print(data.isnull().sum())\n",
    "data.columns\n"
   ]
  },
  {
   "cell_type": "code",
   "execution_count": null,
   "id": "992763e1",
   "metadata": {},
   "outputs": [],
   "source": [
    "#Data Visualization\n",
    "plt.Figure(figsize=(1000,500))\n",
    "sns.histplot(data=data , x=\"condition\")\n",
    "plt.title(\"Distribution of heart disease\")\n",
    "plt.show()\n"
   ]
  },
  {
   "cell_type": "code",
   "execution_count": null,
   "id": "6b953ba8",
   "metadata": {},
   "outputs": [],
   "source": [
    "#Modeling\n",
    "x=data.drop([\"condition\"] , axis=1)\n",
    "y=data[\"condition\"]\n",
    "x_train , x_test , y_train , y_test =model_selection.train_test_split(x ,y , test_size=0.2,random_state=42 , stratify=y)\n",
    "print(x_train.shape , y_train.shape) , x_test , y_test\n",
    "\n",
    "\n",
    "modeles={\"RandomForestClassifier\":RandomForestClassifier() , \n",
    "         \"GradientBoostingClassifier\":GradientBoostingClassifier() ,\n",
    "         \"LogisticRegression\" :LogisticRegression()}\n",
    "\n",
    "for name,x in modeles.items():\n",
    "    x.fit(x_train,y_train)\n",
    "    y_pre=x.predict(x_train)\n",
    "    score=r2_score(y_train,y_pre)\n",
    "    accuracy=accuracy_score(y_train, y_pre)\n",
    "    print(f\"{name} r2 score (train) is:{score:0.4f} and accuracy score is {accuracy} \")\n",
    "\n",
    "best_model=RandomForestClassifier()\n",
    "best_model.fit(x_train,y_train)\n",
    "model_Random=y_pre=best_model.predict(x_test)\n",
    "\n"
   ]
  },
  {
   "cell_type": "code",
   "execution_count": null,
   "id": "4dc8fe61",
   "metadata": {},
   "outputs": [],
   "source": [
    "y_train , y_test= tf.one_hot(y_train , 2) , tf.one_hot(y_test , 2)\n",
    "\n",
    "model1 = tf.keras.Sequential([\n",
    "        tf.keras.layers.Input(shape=[13])    ,\n",
    "        \n",
    "         tf.keras.layers.Dense(units=64 , activation=tf.nn.leaky_relu),\n",
    "         \n",
    "         tf.keras.layers.Dense(units=128 , activation=tf.nn.leaky_relu),\n",
    "         \n",
    "         tf.keras.layers.Dense(units=2 , activation=tf.nn.softmax)\n",
    "])\n",
    "model1.summary()"
   ]
  },
  {
   "cell_type": "code",
   "execution_count": null,
   "id": "8e9c4d36",
   "metadata": {},
   "outputs": [],
   "source": [
    "model1.compile(optimizer=tf.optimizers.Adam() , loss=tf.losses.BinaryFocalCrossentropy(),metrics=[tf.metrics.BinaryAccuracy])\n",
    "model_Sequencial=model1.fit(x=x_train , y=y_train , batch_size=32 , epochs=10 , validation_split=0.1)"
   ]
  },
  {
   "cell_type": "code",
   "execution_count": null,
   "id": "0d11dfdf",
   "metadata": {},
   "outputs": [],
   "source": [
    "input_shape=x_train.shape[1]\n",
    "\n",
    "\n",
    "input_layer=tf.keras.layers.Input(shape=(input_shape,))  \n",
    "dense_layer1=tf.keras.layers.Dense(units=512 , activation=tf.nn.leaky_relu)(input_layer)  \n",
    "dense_layer2= tf.keras.layers.Dense(units=128 , activation=tf.nn.leaky_relu)(dense_layer1)\n",
    "output_layer= tf.keras.layers.Dense(units=2 , activation=tf.nn.sigmoid)(dense_layer2)\n",
    "model=tf.keras.Model(inputs=[input_layer] , outputs=[output_layer])\n",
    "\n",
    "model.summary()\n",
    "\n",
    "model.compile(optimizer=tf.optimizers.Adam() , loss=tf.losses.CategoricalCrossentropy()\n",
    "               , metrics=[tf.metrics.CategoricalAccuracy()])\n",
    "\n",
    "model_API=model.fit(x=x_train , y=y_train , epochs=10 , validation_split=0.1 , batch_size=32)\n",
    "\n",
    "df = pd.DataFrame(model.history.history)\n",
    "df.plot()"
   ]
  },
  {
   "cell_type": "code",
   "execution_count": null,
   "id": "947f3e3a",
   "metadata": {},
   "outputs": [],
   "source": [
    "import pickle\n",
    "filename='heart_disease.sav'\n",
    "pickle.dump(best_model , open(filename , 'wb') )"
   ]
  }
 ],
 "metadata": {
  "kernelspec": {
   "display_name": ".venv",
   "language": "python",
   "name": "python3"
  },
  "language_info": {
   "codemirror_mode": {
    "name": "ipython",
    "version": 3
   },
   "file_extension": ".py",
   "mimetype": "text/x-python",
   "name": "python",
   "nbconvert_exporter": "python",
   "pygments_lexer": "ipython3",
   "version": "3.11.9"
  }
 },
 "nbformat": 4,
 "nbformat_minor": 5
}
