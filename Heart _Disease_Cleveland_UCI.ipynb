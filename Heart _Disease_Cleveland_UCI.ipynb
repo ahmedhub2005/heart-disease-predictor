{
 "cells": [
  {
   "cell_type": "code",
   "execution_count": null,
   "id": "287e7623",
   "metadata": {},
   "outputs": [],
   "source": [
    "#import\n",
    "import pandas as pd\n",
    "import numpy as np\n",
    "import matplotlib.pyplot as plt\n",
    "from sklearn.ensemble import RandomForestClassifier\n",
    "from sklearn.ensemble import GradientBoostingClassifier\n",
    "from sklearn import model_selection\n",
    "from sklearn.linear_model import LogisticRegression\n",
    "from sklearn import metrics\n",
    "import seaborn as sns\n",
    "from sklearn.metrics import accuracy_score\n",
    "from sklearn.model_selection import learning_curve\n",
    "from sklearn.model_selection import train_test_split\n",
    "\n"
   ]
  },
  {
   "cell_type": "code",
   "execution_count": null,
   "id": "b9be3a61",
   "metadata": {},
   "outputs": [],
   "source": [
    "#loading data\n",
    "data = pd.read_csv(r\"heart_cleveland_upload.csv\")\n",
    "\n",
    "\n"
   ]
  },
  {
   "cell_type": "code",
   "execution_count": null,
   "id": "542efa67",
   "metadata": {},
   "outputs": [],
   "source": [
    "data.describe"
   ]
  },
  {
   "cell_type": "code",
   "execution_count": null,
   "id": "4da47188",
   "metadata": {},
   "outputs": [],
   "source": [
    "print(data.isnull().sum())"
   ]
  },
  {
   "cell_type": "code",
   "execution_count": null,
   "id": "3a4d0111",
   "metadata": {},
   "outputs": [],
   "source": [
    "data.columns\n"
   ]
  },
  {
   "cell_type": "code",
   "execution_count": null,
   "id": "d14f4f23",
   "metadata": {},
   "outputs": [],
   "source": [
    "data.dtypes"
   ]
  },
  {
   "cell_type": "code",
   "execution_count": null,
   "id": "98a59d36",
   "metadata": {},
   "outputs": [],
   "source": [
    "import plotly.graph_objects as go\n",
    "from plotly.subplots import make_subplots\n",
    "g_labels = ['Male', 'Female']\n",
    "c_labels = ['No', 'Yes']\n",
    "fig = make_subplots(rows=1, cols=2, specs=[[{'type':'domain'}, {'type':'domain'}]])\n",
    "fig.add_trace(go.Pie(labels=g_labels, values=data['sex'].value_counts(), name=\"Gender\"),\n",
    "              1, 1)\n",
    "fig.add_trace(go.Pie(labels=c_labels, values=data['condition'].value_counts(), name=\"condition\"),\n",
    "              1, 2)\n",
    "\n",
    "\n",
    "fig.update_traces(hole=.4, hoverinfo=\"label+percent+name\", textfont_size=16)\n",
    "\n",
    "fig.update_layout(\n",
    "    title_text=\"Gender and condition Distributions\",\n",
    "\n",
    "    annotations=[dict(text='Gender', x=0.19, y=0.5, font_size=20, showarrow=False),\n",
    "                 dict(text='condition', x=0.82, y=0.5, font_size=20, showarrow=False)])\n",
    "fig.show()"
   ]
  },
  {
   "cell_type": "code",
   "execution_count": null,
   "id": "1bf18843",
   "metadata": {},
   "outputs": [],
   "source": [
    "\n",
    "sns.countplot(x='sex', data=data)\n",
    "plt.title(\"Count by sex\"); plt.xticks(rotation=45); plt.show()\n",
    "#male=1 , female=0"
   ]
  },
  {
   "cell_type": "code",
   "execution_count": null,
   "id": "2b615c30",
   "metadata": {},
   "outputs": [],
   "source": [
    "sns.histplot(data[\"trestbps\"], kde=True)"
   ]
  },
  {
   "cell_type": "code",
   "execution_count": null,
   "id": "d917fa4b",
   "metadata": {},
   "outputs": [],
   "source": [
    "sns.histplot(data[\"chol\"], kde=True)"
   ]
  },
  {
   "cell_type": "code",
   "execution_count": null,
   "id": "5d0df3f4",
   "metadata": {},
   "outputs": [],
   "source": [
    "sns.histplot(data[\"thalach\"], kde=True)"
   ]
  },
  {
   "cell_type": "code",
   "execution_count": null,
   "id": "8b095634",
   "metadata": {},
   "outputs": [],
   "source": [
    "plt.scatter(data['age'], data['condition'], alpha=0.6)\n",
    "plt.xlabel(\"Age\"); plt.ylabel(\"condition\"); plt.title(\"Scatter Plot\"); plt.show()"
   ]
  },
  {
   "cell_type": "code",
   "execution_count": null,
   "id": "438ae200",
   "metadata": {},
   "outputs": [],
   "source": [
    "plt.figure(figsize=(8,6))\n",
    "sns.heatmap(data.corr(), annot=True, cmap=\"coolwarm\", fmt=\".2f\")\n",
    "plt.title(\"Correlation Heatmap\")\n",
    "plt.show()"
   ]
  },
  {
   "cell_type": "code",
   "execution_count": null,
   "id": "e4cfbaa8",
   "metadata": {},
   "outputs": [],
   "source": [
    "#Modeling\n",
    "x=data.drop([\"condition\"] , axis=1)\n",
    "y=data[\"condition\"]\n",
    "from sklearn.preprocessing import StandardScaler\n",
    "scaler = StandardScaler()\n",
    "x = scaler.fit_transform(x)\n",
    "\n",
    "x_train , x_test , y_train , y_test =model_selection.train_test_split(x ,y , test_size=0.2,random_state=42 , stratify=y)\n",
    "print(x_train.shape , y_train.shape) , x_test , y_test\n",
    "from sklearn.metrics import (RocCurveDisplay, PrecisionRecallDisplay,\n",
    "                             ConfusionMatrixDisplay,\n",
    "                             mean_squared_error, r2_score)"
   ]
  },
  {
   "cell_type": "code",
   "execution_count": null,
   "id": "6b953ba8",
   "metadata": {},
   "outputs": [],
   "source": [
    "modeles={\"RandomForestClassifier\":RandomForestClassifier( n_estimators=500,       \n",
    "    max_depth=6,             \n",
    "    min_samples_split=50,   \n",
    "    min_samples_leaf=20,    \n",
    "    max_features=0.3,       \n",
    "    class_weight=\"balanced\", \n",
    "    random_state=42) , \n",
    "         \"GradientBoostingClassifier\":GradientBoostingClassifier() ,\n",
    "         \"LogisticRegression\" :LogisticRegression()}\n",
    "\n",
    "for name,a in modeles.items():\n",
    "    a.fit(x_train,y_train)\n",
    "    y_pre=a.predict(x_train)\n",
    "\n",
    "    accuracy=accuracy_score(y_train, y_pre)\n",
    "    print(f\"{name}  accuracy score is {accuracy} \")\n",
    "    RocCurveDisplay.from_estimator(a, x_test, y_test)\n",
    "    plt.title(f\"ROC Curve:{name}\"); plt.show()\n",
    "    PrecisionRecallDisplay.from_estimator(a, x_test, y_test)\n",
    "    plt.title(f\"Precision-Recall Curve:{name}\"); plt.show()\n",
    "    ConfusionMatrixDisplay.from_estimator(a, x_test, y_test)\n",
    "    plt.title(f\"Confusion Matrix:{name}\"); plt.show()\n",
    "    "
   ]
  },
  {
   "cell_type": "code",
   "execution_count": null,
   "id": "78bdac3d",
   "metadata": {},
   "outputs": [],
   "source": [
    "from sklearn.calibration import calibration_curve\n",
    "# Calibration Curve\n",
    "for name,a in modeles.items():\n",
    "    prob_pos = a.predict_proba(x_test)[:, 1]\n",
    "    frac_pos, mean_pred = calibration_curve(y_test, prob_pos, n_bins=10, strategy='uniform')\n",
    "    plt.plot(mean_pred, frac_pos, marker='o'); plt.plot([0,1],[0,1],'--')\n",
    "    plt.xlabel('Predicted probability'); plt.ylabel('True fraction of positives'); plt.title(f'Calibration{name}'); plt.show()"
   ]
  },
  {
   "cell_type": "code",
   "execution_count": null,
   "id": "babd7c9c",
   "metadata": {},
   "outputs": [],
   "source": [
    "for name,a in modeles.items():\n",
    "    train_sizes, train_scores, val_scores = learning_curve(\n",
    "        a, x, y, cv=5, scoring='f1', train_sizes=np.linspace(0.1, 1.0, 5), n_jobs=-1)\n",
    "    plt.plot(train_sizes, train_scores.mean(axis=1), marker='o', label='Train')\n",
    "    plt.plot(train_sizes, val_scores.mean(axis=1), marker='o', label='Validation')\n",
    "    plt.xlabel('Training examples'); plt.ylabel('F1'); plt.title(f'Learning Curve:{name}'); plt.legend(); plt.show()\n"
   ]
  },
  {
   "cell_type": "code",
   "execution_count": null,
   "id": "947f3e3a",
   "metadata": {},
   "outputs": [],
   "source": [
    "import pickle\n",
    "best_model=RandomForestClassifier()\n",
    "best_model.fit(x_train,y_train)\n",
    "y_pred=best_model.predict(x_test)\n",
    "print(accuracy_score(y_test , y_pred))\n",
    "filename='heart_disease_V2.sav'\n",
    "pickle.dump(best_model , open(filename , 'wb') )"
   ]
  }
 ],
 "metadata": {
  "kernelspec": {
   "display_name": "base",
   "language": "python",
   "name": "python3"
  },
  "language_info": {
   "codemirror_mode": {
    "name": "ipython",
    "version": 3
   },
   "file_extension": ".py",
   "mimetype": "text/x-python",
   "name": "python",
   "nbconvert_exporter": "python",
   "pygments_lexer": "ipython3",
   "version": "3.13.5"
  }
 },
 "nbformat": 4,
 "nbformat_minor": 5
}
